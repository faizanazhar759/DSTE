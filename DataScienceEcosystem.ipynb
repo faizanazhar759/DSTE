{
 "cells": [
  {
   "cell_type": "markdown",
   "id": "d1ca5ec2",
   "metadata": {},
   "source": [
    "# Data Science Tools and Ecosystem"
   ]
  },
  {
   "cell_type": "markdown",
   "id": "599859ea",
   "metadata": {},
   "source": [
    "         This notebook provides a comprehensive overview of the data science tools and ecosystem, offering valuable insights into the key components and technologies that drive modern data analysis and machine learning."
   ]
  },
  {
   "cell_type": "markdown",
   "id": "9373c649",
   "metadata": {},
   "source": [
    "## Popular Languages in Data Science\n",
    "\n",
    "Data scientists use various programming languages to analyze and manipulate data, build machine learning models, and create data visualizations. Here are some of the commonly used languages in the field:\n",
    "\n",
    "1. **Python**: Python is one of the most popular programming languages in data science due to its versatility and a rich ecosystem of libraries and frameworks. It is widely used for tasks such as data cleaning, analysis, machine learning, and web scraping.\n",
    "\n",
    "2. **R**: R is a language and environment specifically designed for statistical analysis and data visualization. It is favored by statisticians and researchers for its powerful statistical packages and data visualization capabilities.\n",
    "\n",
    "3. **Julia**: Julia is an emerging language known for its speed and performance in numerical and scientific computing. It is gaining popularity in data science for its ability to handle large datasets and complex computations efficiently.\n",
    "\n",
    "These languages, along with others like SQL, are essential tools in the data scientist's toolkit, enabling them to extract valuable insights from data and make data-driven decisions.\n"
   ]
  },
  {
   "cell_type": "markdown",
   "id": "6d7c7fa2",
   "metadata": {},
   "source": [
    "**Objectives:**\n",
    "\n",
    "- List popular languages for Data Science.\n",
    "- Introduce commonly used libraries in Data Science.\n",
    "- Provide examples of evaluating arithmetic expressions in Python.\n",
    "- Convert minutes to hours using Python expressions.\n",
    "\n"
   ]
  },
  {
   "cell_type": "markdown",
   "id": "d39d4181",
   "metadata": {},
   "source": [
    "## Commonly Used Libraries in Data Science\n",
    "\n",
    "Some of the commonly used libraries by Data Scientists include:\n",
    "\n",
    "1. **NumPy**: NumPy is a fundamental library for numerical computing in Python. It provides support for arrays and matrices, along with mathematical functions to perform operations efficiently. NumPy is the foundation for many other libraries in the data science ecosystem.\n",
    "\n",
    "2. **Pandas**: Pandas is a powerful data manipulation library for Python. It offers data structures like DataFrames and Series, making it easy to clean, transform, and analyze data. Pandas is indispensable for data preprocessing and exploration.\n",
    "\n",
    "3. **scikit-learn**: scikit-learn is a versatile machine learning library for Python. It provides tools for building and evaluating machine learning models, including classification, regression, clustering, and more. It's widely used for model development and evaluation.\n",
    "\n",
    "4. **Matplotlib**: Matplotlib is a popular data visualization library in Python. It offers a wide range of plotting functions to create static, animated, or interactive visualizations. Matplotlib is often used in conjunction with other libraries like Seaborn and Plotly for data visualization.\n",
    "\n",
    "These libraries, among others, play a crucial role in the data science workflow, enabling data scientists to efficiently process, analyze, and visualize data and develop machine learning models.\n"
   ]
  },
  {
   "cell_type": "markdown",
   "id": "0ca6b3df",
   "metadata": {},
   "source": [
    "| Data Science Tools     |\n",
    "|------------------------|\n",
    "| Jupyter Notebook       |\n",
    "| RStudio                |\n",
    "| Visual Studio Code     |\n"
   ]
  },
  {
   "cell_type": "markdown",
   "id": "ab4542f2",
   "metadata": {},
   "source": [
    "### Examples of Evaluating Arithmetic Expressions in Python\n",
    "\n",
    "Below are a few examples demonstrating the evaluation of arithmetic expressions in Python.\n"
   ]
  },
  {
   "cell_type": "code",
   "execution_count": 1,
   "id": "e0ca5ac1",
   "metadata": {},
   "outputs": [
    {
     "data": {
      "text/plain": [
       "17"
      ]
     },
     "execution_count": 1,
     "metadata": {},
     "output_type": "execute_result"
    }
   ],
   "source": [
    "### This a simple arithmetic expression to mutiply then add integers\n",
    "\n",
    "\n",
    "(3*4)+5"
   ]
  },
  {
   "cell_type": "code",
   "execution_count": 2,
   "id": "23f8b446",
   "metadata": {},
   "outputs": [
    {
     "name": "stdout",
     "output_type": "stream",
     "text": [
      "3.3333333333333335\n"
     ]
    }
   ],
   "source": [
    "### Convert Minutes to Hours\n",
    "\n",
    "\n",
    "# This will convert 200 minutes to hours by dividing by 60.\n",
    "minutes = 200\n",
    "hours = minutes / 60\n",
    "print(hours)\n"
   ]
  },
  {
   "cell_type": "markdown",
   "id": "3a2f0f87",
   "metadata": {},
   "source": [
    "## Author\n",
    "\n",
    "Faizan Azhar\n"
   ]
  }
 ],
 "metadata": {
  "kernelspec": {
   "display_name": "Python 3 (ipykernel)",
   "language": "python",
   "name": "python3"
  },
  "language_info": {
   "codemirror_mode": {
    "name": "ipython",
    "version": 3
   },
   "file_extension": ".py",
   "mimetype": "text/x-python",
   "name": "python",
   "nbconvert_exporter": "python",
   "pygments_lexer": "ipython3",
   "version": "3.11.4"
  }
 },
 "nbformat": 4,
 "nbformat_minor": 5
}
